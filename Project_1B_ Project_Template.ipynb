{
 "cells": [
  {
   "cell_type": "markdown",
   "metadata": {},
   "source": [
    "# Part I. ETL Pipeline for Pre-Processing the Files"
   ]
  },
  {
   "cell_type": "markdown",
   "metadata": {},
   "source": [
    "## PLEASE RUN THE FOLLOWING CODE FOR PRE-PROCESSING THE FILES"
   ]
  },
  {
   "cell_type": "markdown",
   "metadata": {},
   "source": [
    "#### Import Python packages "
   ]
  },
  {
   "cell_type": "code",
   "execution_count": 174,
   "metadata": {},
   "outputs": [],
   "source": [
    "# Import Python packages \n",
    "import pandas as pd\n",
    "import cassandra\n",
    "import re\n",
    "import os\n",
    "import glob\n",
    "import numpy as np\n",
    "import json\n",
    "import csv"
   ]
  },
  {
   "cell_type": "markdown",
   "metadata": {},
   "source": [
    "#### Creating list of filepaths to process original event csv data files"
   ]
  },
  {
   "cell_type": "code",
   "execution_count": 175,
   "metadata": {},
   "outputs": [
    {
     "name": "stdout",
     "output_type": "stream",
     "text": [
      "c:\\Downloads\\Courses\\Udacity_Data_Engineering\\Data_Modelling_Cassandra\n"
     ]
    }
   ],
   "source": [
    "# checking your current working directory\n",
    "print(os.getcwd())\n",
    "\n",
    "# Get your current folder and subfolder event data\n",
    "filepath = os.getcwd() + '/event_data'\n",
    "\n",
    "# Create a for loop to create a list of files and collect each filepath\n",
    "for root, dirs, files in os.walk(filepath):\n",
    "    \n",
    "# join the file path and roots with the subdirectories using glob\n",
    "    file_path_list = glob.glob(os.path.join(root,'*'))\n",
    "    #print(file_path_list)"
   ]
  },
  {
   "cell_type": "markdown",
   "metadata": {},
   "source": [
    "#### Processing the files to create the data file csv that will be used for Apache Casssandra tables"
   ]
  },
  {
   "cell_type": "code",
   "execution_count": 176,
   "metadata": {},
   "outputs": [
    {
     "ename": "PermissionError",
     "evalue": "[Errno 13] Permission denied: 'event_datafile_new.csv'",
     "output_type": "error",
     "traceback": [
      "\u001b[1;31m---------------------------------------------------------------------------\u001b[0m",
      "\u001b[1;31mPermissionError\u001b[0m                           Traceback (most recent call last)",
      "\u001b[1;32m<ipython-input-176-d1d8aa14fa5e>\u001b[0m in \u001b[0;36m<module>\u001b[1;34m\u001b[0m\n\u001b[0;32m     25\u001b[0m \u001b[0mcsv\u001b[0m\u001b[1;33m.\u001b[0m\u001b[0mregister_dialect\u001b[0m\u001b[1;33m(\u001b[0m\u001b[1;34m'myDialect'\u001b[0m\u001b[1;33m,\u001b[0m \u001b[0mquoting\u001b[0m\u001b[1;33m=\u001b[0m\u001b[0mcsv\u001b[0m\u001b[1;33m.\u001b[0m\u001b[0mQUOTE_ALL\u001b[0m\u001b[1;33m,\u001b[0m \u001b[0mskipinitialspace\u001b[0m\u001b[1;33m=\u001b[0m\u001b[1;32mTrue\u001b[0m\u001b[1;33m)\u001b[0m\u001b[1;33m\u001b[0m\u001b[1;33m\u001b[0m\u001b[0m\n\u001b[0;32m     26\u001b[0m \u001b[1;33m\u001b[0m\u001b[0m\n\u001b[1;32m---> 27\u001b[1;33m \u001b[1;32mwith\u001b[0m \u001b[0mopen\u001b[0m\u001b[1;33m(\u001b[0m\u001b[1;34m'event_datafile_new.csv'\u001b[0m\u001b[1;33m,\u001b[0m \u001b[1;34m'w'\u001b[0m\u001b[1;33m,\u001b[0m \u001b[0mencoding\u001b[0m \u001b[1;33m=\u001b[0m \u001b[1;34m'utf8'\u001b[0m\u001b[1;33m,\u001b[0m \u001b[0mnewline\u001b[0m\u001b[1;33m=\u001b[0m\u001b[1;34m''\u001b[0m\u001b[1;33m)\u001b[0m \u001b[1;32mas\u001b[0m \u001b[0mf\u001b[0m\u001b[1;33m:\u001b[0m\u001b[1;33m\u001b[0m\u001b[1;33m\u001b[0m\u001b[0m\n\u001b[0m\u001b[0;32m     28\u001b[0m     \u001b[0mwriter\u001b[0m \u001b[1;33m=\u001b[0m \u001b[0mcsv\u001b[0m\u001b[1;33m.\u001b[0m\u001b[0mwriter\u001b[0m\u001b[1;33m(\u001b[0m\u001b[0mf\u001b[0m\u001b[1;33m,\u001b[0m \u001b[0mdialect\u001b[0m\u001b[1;33m=\u001b[0m\u001b[1;34m'myDialect'\u001b[0m\u001b[1;33m)\u001b[0m\u001b[1;33m\u001b[0m\u001b[1;33m\u001b[0m\u001b[0m\n\u001b[0;32m     29\u001b[0m     writer.writerow(['artist','firstName','gender','itemInSession','lastName','length',\\\n",
      "\u001b[1;31mPermissionError\u001b[0m: [Errno 13] Permission denied: 'event_datafile_new.csv'"
     ]
    }
   ],
   "source": [
    "# initiating an empty list of rows that will be generated from each file\n",
    "full_data_rows_list = [] \n",
    "    \n",
    "# for every filepath in the file path list \n",
    "for f in file_path_list:\n",
    "\n",
    "# reading csv file \n",
    "    with open(f, 'r', encoding = 'utf8', newline='') as csvfile: \n",
    "        # creating a csv reader object \n",
    "        csvreader = csv.reader(csvfile) \n",
    "        next(csvreader)\n",
    "        \n",
    " # extracting each data row one by one and append it        \n",
    "        for line in csvreader:\n",
    "            #print(line)\n",
    "            full_data_rows_list.append(line) \n",
    "            \n",
    "# uncomment the code below if you would like to get total number of rows \n",
    "#print(len(full_data_rows_list))\n",
    "# uncomment the code below if you would like to check to see what the list of event data rows will look like\n",
    "#print(full_data_rows_list)\n",
    "\n",
    "# creating a smaller event data csv file called event_datafile_full csv that will be used to insert data into the \\\n",
    "# Apache Cassandra tables\n",
    "csv.register_dialect('myDialect', quoting=csv.QUOTE_ALL, skipinitialspace=True)\n",
    "\n",
    "with open('event_datafile_new.csv', 'w', encoding = 'utf8', newline='') as f:\n",
    "    writer = csv.writer(f, dialect='myDialect')\n",
    "    writer.writerow(['artist','firstName','gender','itemInSession','lastName','length',\\\n",
    "                'level','location','sessionId','song','userId'])\n",
    "    for row in full_data_rows_list:\n",
    "        if (row[0] == ''):\n",
    "            continue\n",
    "        writer.writerow((row[0], row[2], row[3], row[4], row[5], row[6], row[7], row[8], row[12], row[13], row[16]))\n"
   ]
  },
  {
   "cell_type": "code",
   "execution_count": 177,
   "metadata": {},
   "outputs": [
    {
     "name": "stdout",
     "output_type": "stream",
     "text": [
      "6821\n"
     ]
    }
   ],
   "source": [
    "# check the number of rows in your csv file\n",
    "with open('event_datafile_new.csv', 'r', encoding = 'utf8') as f:\n",
    "    print(sum(1 for line in f))"
   ]
  },
  {
   "cell_type": "markdown",
   "metadata": {},
   "source": [
    "# Part II. Complete the Apache Cassandra coding portion of your project. \n",
    "\n",
    "## Now you are ready to work with the CSV file titled <font color=red>event_datafile_new.csv</font>, located within the Workspace directory.  The event_datafile_new.csv contains the following columns: \n",
    "- artist \n",
    "- firstName of user\n",
    "- gender of user\n",
    "- item number in session\n",
    "- last name of user\n",
    "- length of the song\n",
    "- level (paid or free song)\n",
    "- location of the user\n",
    "- sessionId\n",
    "- song title\n",
    "- userId\n",
    "\n",
    "The image below is a screenshot of what the denormalized data should appear like in the <font color=red>**event_datafile_new.csv**</font> after the code above is run:<br>\n",
    "\n",
    "<img src=\"images/image_event_datafile_new.jpg\">"
   ]
  },
  {
   "cell_type": "markdown",
   "metadata": {},
   "source": [
    "## Begin writing your Apache Cassandra code in the cells below"
   ]
  },
  {
   "cell_type": "markdown",
   "metadata": {},
   "source": [
    "#### Creating a Cluster"
   ]
  },
  {
   "cell_type": "code",
   "execution_count": 178,
   "metadata": {},
   "outputs": [],
   "source": [
    "# This should make a connection to a Cassandra instance your local machine \n",
    "# (127.0.0.1)\n",
    "\n",
    "from cassandra.cluster import Cluster\n",
    "\n",
    "cluster = Cluster(['127.0.0.1'])\n",
    "try:\n",
    "    session = cluster.connect()\n",
    "except Exception as e:\n",
    "    print(e)\n",
    "# To establish connection and begin executing queries, need a session\n"
   ]
  },
  {
   "cell_type": "markdown",
   "metadata": {},
   "source": [
    "#### Create Keyspace"
   ]
  },
  {
   "cell_type": "code",
   "execution_count": 179,
   "metadata": {},
   "outputs": [],
   "source": [
    "try:\n",
    "    session.execute(\"CREATE KEYSPACE if not exists sprakify with REPLICATION =\"+\n",
    "                    \"{'class':'SimpleStrategy','replication_factor':1}\")\n",
    "except Exception as e:\n",
    "    print(e)\n"
   ]
  },
  {
   "cell_type": "markdown",
   "metadata": {},
   "source": [
    "#### Set Keyspace"
   ]
  },
  {
   "cell_type": "code",
   "execution_count": 180,
   "metadata": {},
   "outputs": [],
   "source": [
    "try:\n",
    "    session.set_keyspace(\"sprakify\")\n",
    "except Exception as e:\n",
    "    print(e)\n"
   ]
  },
  {
   "cell_type": "markdown",
   "metadata": {},
   "source": [
    "### Now we need to create tables to run the following queries. Remember, with Apache Cassandra you model the database tables on the queries you want to run."
   ]
  },
  {
   "cell_type": "markdown",
   "metadata": {},
   "source": [
    "## Create queries to ask the following three questions of the data\n",
    "\n",
    "### 1. Give me the artist, song title and song's length in the music app history that was heard during  sessionId = 338, and itemInSession  = 4\n",
    "\n",
    "\n",
    "### 2. Give me only the following: name of artist, song (sorted by itemInSession) and user (first and last name) for userid = 10, sessionid = 182\n",
    "    \n",
    "\n",
    "### 3. Give me every user name (first and last) in my music app history who listened to the song 'All Hands Against His Own'\n",
    "\n",
    "\n"
   ]
  },
  {
   "cell_type": "markdown",
   "metadata": {},
   "source": [
    "## **artist_song_by_session table creation and design:**\n",
    "\n",
    "It is about getting the artist,song and song length using sessionId and itemInSession \n",
    "columns.The table creation will contain the mentioned columns, and the partition \n",
    "key will be the sessionId. The purpose for this is it will be used in the where \n",
    "condition, and it will cause the rows to be evenly distributed. \n",
    "The clustering column is the itemInSesison. Another soution to have the \n",
    "parition key to be composite of (SessionId,itemInSession) but the \n",
    "performance gain is not that much."
   ]
  },
  {
   "cell_type": "code",
   "execution_count": 182,
   "metadata": {},
   "outputs": [],
   "source": [
    "query=\"CREATE TABLE IF NOT EXISTS artist_song_by_session \" \\\n",
    "      \"(sessionId INT,iteminSession INT,artist text,song text,length decimal,\"\\\n",
    "      \"PRIMARY KEY((sessionId,iteminSession)));\"\n",
    "try:\n",
    "    session.execute(query)\n",
    "except Exception as e:\n",
    "    print(\"Error in creating table artist_song_by_session\",e)\n",
    "\n",
    "                    "
   ]
  },
  {
   "cell_type": "markdown",
   "metadata": {},
   "source": [
    "## **Loading the table artist_song_by_session:**\n",
    "\n",
    "It is a loop on each line in the file 'event_datafile_new.csv' to insert the \n",
    "required fields in table 'artist_song_by_session'. Some sort of rejection management mechanism has been added to detect in error happens in inserting any row in the table."
   ]
  },
  {
   "cell_type": "code",
   "execution_count": 183,
   "metadata": {
    "scrolled": false
   },
   "outputs": [],
   "source": [
    "file = 'event_datafile_new.csv'\n",
    "filerejected='rejected_event_datafile_new_q1.csv'\n",
    "flag = False\n",
    "with open(file, encoding = 'utf8') as f,open(filerejected,'w',encoding='utf8',newline='') as freject:\n",
    "    csvreader = csv.reader(f)\n",
    "    writer = csv.writer(freject, dialect='myDialect')\n",
    "    next(csvreader) # skip header\n",
    "    for line in csvreader:\n",
    "        query = \"INSERT INTO artist_song_by_session(sessionId,iteminSession,artist,song,length)\"\n",
    "        query = query + \"VALUES(%s,%s,%s,%s,%s)\"\n",
    "        try:\n",
    "            session.execute(query,(int(line[8]),int(line[3]),line[0],line[9],float(line[5])))\n",
    "        except Exception as e:\n",
    "            if not flag:\n",
    "                print(e)\n",
    "            flag=True\n",
    "            writer.writerow((line[0],line[1],line[2],line[3],line[4],line[5],line[6],line[7],line[8],line[9],line[10]))\n",
    "\n",
    "if flag:\n",
    "    print(\"Please check the rejected file: \",filerejected)\n",
    "else:\n",
    "    os.remove(filerejected)"
   ]
  },
  {
   "cell_type": "markdown",
   "metadata": {},
   "source": [
    "## **Verification for the artist_song_by_session design:**\n",
    "\n",
    "The commented code is all about getting row count for loading verification. A select statement which represents the first query has been written and executed for testing and verifying the results."
   ]
  },
  {
   "cell_type": "code",
   "execution_count": 184,
   "metadata": {
    "scrolled": true
   },
   "outputs": [
    {
     "name": "stdout",
     "output_type": "stream",
     "text": [
      "Artist:Faithless\n",
      "Song:Music Matters (Mark Knight Dub)\n",
      "Length:495.3073\n"
     ]
    }
   ],
   "source": [
    "#rows=session.execute(\"SELECT count(*) FROM artist_song\")\n",
    "#for row in rows:\n",
    "#    print(row)\n",
    "    \n",
    "try:\n",
    "    rows=session.execute(\"SELECT ARTIST,SONG,length FROM artist_song_by_session WHERE sessionId = 338 and itemInSession = 4\")\n",
    "    for row in rows:\n",
    "        print(f'Artist:{row.artist}\\nSong:{row.song}\\nLength:{row.length}')\n",
    "except Exception as e:\n",
    "    print(\"Error in executingquery for Q1: \",e)\n",
    "    "
   ]
  },
  {
   "cell_type": "markdown",
   "metadata": {},
   "source": [
    "## **artist_song_by_user table creation and design:**\n",
    "\n",
    "It is required to get the artist,song and username(first and last)sorted by \n",
    "itemInSession given that we have certain userId and sessionId.\n",
    "The table creation will include these columns in addition to  primary key.\n",
    "The partition key will be composite key (userId,sessionId) to enhance\n",
    "the query performance. The clustering key will be itemInSession which is required\n",
    "to get the results sorted using this column."
   ]
  },
  {
   "cell_type": "code",
   "execution_count": 164,
   "metadata": {},
   "outputs": [],
   "source": [
    "\n",
    "query=\"CREATE TABLE IF NOT EXISTS artist_song_by_user \" \\\n",
    "      \"(userId INT,sessionId INT,iteminSession INT,artist text,song text,firstName text,lastName text,\"\\\n",
    "      \"PRIMARY KEY((userId,sessionId),iteminSession));\"\n",
    "try:\n",
    "    session.execute(query)\n",
    "except Exception as e:\n",
    "    print(\"Error in creating table artist_song_by_user\",e)\n",
    "\n",
    "                    "
   ]
  },
  {
   "cell_type": "markdown",
   "metadata": {},
   "source": [
    "## **Loading the table artist_song_by_user:**\n",
    "\n",
    "It is a loop on each line in the file 'event_datafile_new.csv' to insert the \n",
    "required fields in table 'artist_song_by_user'. Some sort of rejection management mechanism has been added to detect in error happens in inserting any row in the table."
   ]
  },
  {
   "cell_type": "code",
   "execution_count": 165,
   "metadata": {
    "scrolled": false
   },
   "outputs": [],
   "source": [
    "file = 'event_datafile_new.csv'\n",
    "filerejected='rejected_event_datafile_new_q2.csv'\n",
    "flag = False\n",
    "with open(file, encoding = 'utf8') as f,open(filerejected,'w',encoding='utf8',newline='') as freject:\n",
    "    csvreader = csv.reader(f)\n",
    "    writer = csv.writer(freject, dialect='myDialect')\n",
    "    next(csvreader) # skip header\n",
    "    for line in csvreader:\n",
    "        query = \"INSERT INTO artist_song_by_user(userId,sessionId,iteminSession,artist,song,firstName,lastName)\"\n",
    "        query = query + \"VALUES(%s,%s,%s,%s,%s,%s,%s)\"\n",
    "        try:\n",
    "            session.execute(query,(int(line[10]),int(line[8]),int(line[3]),line[0],line[9],line[1],line[4]))\n",
    "        except Exception as e:\n",
    "            if not flag:\n",
    "                print(e)\n",
    "            flag=True\n",
    "            writer.writerow((line[0],line[1],line[2],line[3],line[4],line[5],line[6],line[7],line[8],line[9],line[10]))\n",
    "\n",
    "if flag:\n",
    "    print(\"Please check the rejected file: \",filerejected)\n",
    "else:\n",
    "    os.remove(filerejected)"
   ]
  },
  {
   "cell_type": "code",
   "execution_count": 166,
   "metadata": {
    "scrolled": true
   },
   "outputs": [
    {
     "name": "stdout",
     "output_type": "stream",
     "text": [
      "Artist:Down To The Bone#Song:Keep On Keepin' On#Name:Sylvie,Cruz#0\n",
      "Artist:Three Drives#Song:Greece 2000#Name:Sylvie,Cruz#1\n",
      "Artist:Sebastien Tellier#Song:Kilometer#Name:Sylvie,Cruz#2\n",
      "Artist:Lonnie Gordon#Song:Catch You Baby (Steve Pitron & Max Sanna Radio Edit)#Name:Sylvie,Cruz#3\n"
     ]
    }
   ],
   "source": [
    "## TO-DO: Add in the SELECT statement to verify the data was entered into the table\n",
    "## I added in the output of the select iteminsession to make sure that the output is sorted by it.\n",
    "#rows=session.execute(\"SELECT count(*) FROM artist_song_by_user\")\n",
    "#for row in rows:\n",
    "#    print(row)\n",
    "try:\n",
    "    rows=session.execute(\"SELECT ARTIST,SONG,FIRSTNAME,LASTNAME,iteminsession FROM artist_song_by_user WHERE userid = 10 and sessionid = 182\")\n",
    "    for row in rows:\n",
    "        print(f'Artist:{row.artist}#Song:{row.song}#Name:{row.firstname},{row.lastname}#{row.iteminsession}')\n",
    "except Exception as e:\n",
    "    print(\"Error in executingquery for Q2: \",e)\n",
    "    "
   ]
  },
  {
   "cell_type": "code",
   "execution_count": 167,
   "metadata": {},
   "outputs": [],
   "source": [
    "## TO-DO: Query 3: Give me every user name (first and last) in my music app history who listened to the song 'All Hands Against His Own'\n",
    "\n",
    "query=\"CREATE TABLE IF NOT EXISTS users_by_song \" \\\n",
    "      \"(song text,userId INT,sessionId INT,iteminSession INT,firstName text,lastName text,\"\\\n",
    "      \"PRIMARY KEY(song,userId));\"\n",
    "try:\n",
    "    session.execute(query)\n",
    "except Exception as e:\n",
    "    print(\"Error in creating table users_by_song\",e)\n",
    "\n",
    "\n",
    "                    "
   ]
  },
  {
   "cell_type": "code",
   "execution_count": 168,
   "metadata": {},
   "outputs": [],
   "source": [
    "# We have provided part of the code to set up the CSV file. Please complete the Apache Cassandra code below#\n",
    "file = 'event_datafile_new.csv'\n",
    "filerejected='rejected_event_datafile_new_q3.csv'\n",
    "flag = False\n",
    "with open(file, encoding = 'utf8') as f,open(filerejected,'w',encoding='utf8',newline='') as freject:\n",
    "    csvreader = csv.reader(f)\n",
    "    writer = csv.writer(freject, dialect='myDialect')\n",
    "    next(csvreader) # skip header\n",
    "    for line in csvreader:\n",
    "## TO-DO: Assign the INSERT statements into the `query` variable\n",
    "        query = \"INSERT INTO users_by_song(song,userId,sessionId,iteminSession,firstName,lastName)\"\n",
    "        query = query + \"VALUES(%s,%s,%s,%s,%s,%s)\"\n",
    "        ## TO-DO: Assign which column element should be assigned for each column in the INSERT statement.\n",
    "        ## For e.g., to INSERT artist_name and user first_name, you would change the code below to `line[0], line[1]`\n",
    "        try:\n",
    "            session.execute(query,(line[9],int(line[10]),int(line[8]),int(line[3]),line[1],line[4]))\n",
    "        except Exception as e:\n",
    "            if not flag:\n",
    "                print(e)\n",
    "            flag=True\n",
    "            writer.writerow((line[0],line[1],line[2],line[3],line[4],line[5],line[6],line[7],line[8],line[9],line[10]))\n",
    "                  #freject.write(\"|\".join(line)+\"\\n\")\n",
    "\n",
    "if flag:\n",
    "    print(\"Please check the rejected file: \",filerejected)\n",
    "else:\n",
    "    os.remove(filerejected)"
   ]
  },
  {
   "cell_type": "code",
   "execution_count": 170,
   "metadata": {},
   "outputs": [
    {
     "name": "stdout",
     "output_type": "stream",
     "text": [
      "Name:Jacqueline,Lynch\n",
      "Name:Tegan,Levine\n",
      "Name:Sara,Johnson\n"
     ]
    }
   ],
   "source": [
    "## TO-DO: Add in the SELECT statement to verify the data was entered into the table\n",
    "#rows=session.execute(\"SELECT count(*) FROM users_by_song\")\n",
    "#for row in rows:\n",
    "#    print(row)\n",
    "try:\n",
    "    rows=session.execute(\"SELECT FIRSTNAME,LASTNAME FROM users_by_song WHERE SONG='All Hands Against His Own'\")\n",
    "    for row in rows:\n",
    "        print(f'Name:{row.firstname},{row.lastname}')\n",
    "except Exception as e:\n",
    "    print(\"Error in executingquery for Q3: \",e)\n",
    "    "
   ]
  },
  {
   "cell_type": "markdown",
   "metadata": {},
   "source": [
    "### Drop the tables before closing out the sessions"
   ]
  },
  {
   "cell_type": "code",
   "execution_count": 171,
   "metadata": {},
   "outputs": [],
   "source": [
    "## TO-DO: Drop the table before closing out the sessions"
   ]
  },
  {
   "cell_type": "code",
   "execution_count": 172,
   "metadata": {},
   "outputs": [],
   "source": [
    "try:\n",
    "    session.execute(\"DROP TABLE IF EXISTS artist_song_by_session;\")\n",
    "except Exception as e:\n",
    "    print(\"Error in dropping table artist_song_by_session: \",e)\n",
    "\n",
    "try:\n",
    "    session.execute(\"DROP TABLE IF EXISTS artist_song_by_user;\")\n",
    "except Exception as e:\n",
    "    print(\"Error in dropping table artist_song_by_user: \",e)\n",
    "    \n",
    "try:\n",
    "    session.execute(\"DROP TABLE IF EXISTS users_by_song;\")\n",
    "except Exception as e:\n",
    "    print(\"Error in dropping table users_by_song: \",e)    "
   ]
  },
  {
   "cell_type": "markdown",
   "metadata": {},
   "source": [
    "### Close the session and cluster connection¶"
   ]
  },
  {
   "cell_type": "code",
   "execution_count": 173,
   "metadata": {},
   "outputs": [],
   "source": [
    "session.shutdown()\n",
    "cluster.shutdown()"
   ]
  },
  {
   "cell_type": "code",
   "execution_count": null,
   "metadata": {},
   "outputs": [],
   "source": []
  },
  {
   "cell_type": "code",
   "execution_count": null,
   "metadata": {},
   "outputs": [],
   "source": []
  }
 ],
 "metadata": {
  "kernelspec": {
   "display_name": "Python 3",
   "language": "python",
   "name": "python3"
  },
  "language_info": {
   "codemirror_mode": {
    "name": "ipython",
    "version": 3
   },
   "file_extension": ".py",
   "mimetype": "text/x-python",
   "name": "python",
   "nbconvert_exporter": "python",
   "pygments_lexer": "ipython3",
   "version": "3.8.5"
  }
 },
 "nbformat": 4,
 "nbformat_minor": 2
}
